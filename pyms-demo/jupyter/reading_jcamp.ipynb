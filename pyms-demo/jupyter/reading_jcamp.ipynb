{
 "cells": [
  {
   "cell_type": "markdown",
   "source": [
    "# Example: Reading JCAMP GC-MS data\n",
    "\n",
    "The PyMS package |pyms.GCMS.IO.JCAMP| provides capabilities to read the raw \n",
    "GC-MS data stored in the JCAMP-DX format.\n",
    "\n",
    "\n",
    "First, setup the paths to the datafile and the output directory, \n",
    "then import JCAMP_reader."
   ],
   "metadata": {
    "collapsed": false,
    "pycharm": {
     "name": "#%% md\n"
    }
   }
  },
  {
   "cell_type": "code",
   "execution_count": 1,
   "outputs": [],
   "source": [
    "import pathlib\n",
    "data_directory = pathlib.Path(\".\").resolve().parent.parent / \"pyms-data\"\n",
    "# Change this if the data files are stored in a different location\n",
    "\n",
    "output_directory = pathlib.Path(\".\").resolve() / \"output\"\n",
    "\n",
    "from pyms.GCMS.IO.JCAMP import JCAMP_reader"
   ],
   "metadata": {
    "collapsed": false,
    "pycharm": {
     "name": "#%%\n",
     "is_executing": false
    }
   }
  },
  {
   "cell_type": "markdown",
   "source": [
    "Read the raw JCAMP-dx data."
   ],
   "metadata": {
    "collapsed": false,
    "pycharm": {
     "name": "#%% md\n"
    }
   }
  },
  {
   "cell_type": "code",
   "execution_count": 2,
   "outputs": [
    {
     "name": "stdout",
     "text": [
      " -> Reading JCAMP file '/home/domdf/Python/00 Projects/pyms-github/pyms-data/gc01_0812_066.jdx'\n"
     ],
     "output_type": "stream"
    },
    {
     "data": {
      "text/plain": "<pyms.GCMS.Class.GCMS_data at 0x7f89ad5ade48>"
     },
     "metadata": {},
     "output_type": "execute_result",
     "execution_count": 2
    }
   ],
   "source": [
    "jcamp_file = data_directory / \"gc01_0812_066.jdx\"\n",
    "data = JCAMP_reader(jcamp_file)\n",
    "data"
   ],
   "metadata": {
    "collapsed": false,
    "pycharm": {
     "name": "#%%\n",
     "is_executing": false
    }
   }
  },
  {
   "cell_type": "markdown",
   "source": [
    "### A GCMS_data Object\n",
    "\n",
    "The object ``data`` (from the two previous examples) stores the raw data as a\n",
    "|pyms.GCMS.Class.GCMS_data| object. \n",
    "Within the |GCMS_data|\n",
    "object, raw data are stored as a list of \n",
    "|pyms.Spectrum.Scan| objects and a list of \n",
    "retention times. There are several methods available to access data and \n",
    "attributes of the |GCMS_data|\n",
    "and |Scan| objects.\n",
    "\n",
    "The |GCMS_data| object's methods relate to the raw data. \n",
    "The main properties relate to the masses, retention times and scans. For example, the\n",
    "minimum and maximum mass from all of the raw data can be returned by the\n",
    "following:"
   ],
   "metadata": {
    "collapsed": false,
    "pycharm": {
     "name": "#%% md\n"
    }
   }
  },
  {
   "cell_type": "code",
   "execution_count": 3,
   "outputs": [
    {
     "data": {
      "text/plain": "50.0"
     },
     "metadata": {},
     "output_type": "execute_result",
     "execution_count": 3
    }
   ],
   "source": [
    "data.min_mass\n"
   ],
   "metadata": {
    "collapsed": false,
    "pycharm": {
     "name": "#%%\n",
     "is_executing": false
    }
   }
  },
  {
   "cell_type": "code",
   "source": [
    "data.max_mass"
   ],
   "metadata": {
    "collapsed": false,
    "pycharm": {
     "name": "#%% \n",
     "is_executing": false
    }
   },
   "execution_count": 4,
   "outputs": [
    {
     "data": {
      "text/plain": "599.9"
     },
     "metadata": {},
     "output_type": "execute_result",
     "execution_count": 4
    }
   ]
  },
  {
   "cell_type": "markdown",
   "source": [
    "A list of the first 10 retention times can be returned with:"
   ],
   "metadata": {
    "collapsed": false,
    "pycharm": {
     "name": "#%% md\n"
    }
   }
  },
  {
   "cell_type": "code",
   "execution_count": 5,
   "outputs": [
    {
     "data": {
      "text/plain": "[305.582,\n 305.958,\n 306.333,\n 306.708,\n 307.084,\n 307.459,\n 307.834,\n 308.21,\n 308.585,\n 308.96]"
     },
     "metadata": {},
     "output_type": "execute_result",
     "execution_count": 5
    }
   ],
   "source": [
    "data.time_list[:10]"
   ],
   "metadata": {
    "collapsed": false,
    "pycharm": {
     "name": "#%%\n",
     "is_executing": false
    }
   }
  },
  {
   "cell_type": "markdown",
   "source": [
    "The index of a specific retention time (in seconds) can be returned with:\n"
   ],
   "metadata": {
    "collapsed": false,
    "pycharm": {
     "name": "#%% md\n"
    }
   }
  },
  {
   "cell_type": "code",
   "execution_count": 6,
   "outputs": [
    {
     "data": {
      "text/plain": "252"
     },
     "metadata": {},
     "output_type": "execute_result",
     "execution_count": 6
    }
   ],
   "source": [
    "data.get_index_at_time(400.0)"
   ],
   "metadata": {
    "collapsed": false,
    "pycharm": {
     "name": "#%%\n",
     "is_executing": false
    }
   }
  },
  {
   "cell_type": "markdown",
   "source": [
    "Note that this returns the index of the retention time in the\n",
    "data closest to the given retention time of 400.0 seconds.\n",
    "\n",
    "The |GCMS_data.tic| attribute\n",
    "returns a total ion chromatogram (TIC) of the data\n",
    "as an |IonChromatogram| object:"
   ],
   "metadata": {
    "collapsed": false,
    "pycharm": {
     "name": "#%% md\n"
    }
   }
  },
  {
   "cell_type": "code",
   "execution_count": 7,
   "outputs": [
    {
     "data": {
      "text/plain": "<pyms.IonChromatogram.IonChromatogram at 0x7f89ad5adac8>"
     },
     "metadata": {},
     "output_type": "execute_result",
     "execution_count": 7
    }
   ],
   "source": [
    "data.tic"
   ],
   "metadata": {
    "collapsed": false,
    "pycharm": {
     "name": "#%%\n",
     "is_executing": false
    }
   }
  },
  {
   "cell_type": "markdown",
   "source": [
    "The |IonChromatogram| object is explained in a later example.\n",
    "\n",
    "### A Scan Object\n",
    "\n",
    "A |pyms.Spectrum.Scan| object contains a list of masses and a corresponding list of intensity values \n",
    "from a single mass-spectrum scan in the raw data. Typically only non-zero (or non-threshold) intensities and \n",
    "corresponding masses are stored in the raw data.\n",
    "\n",
    "A list of the first 10 |pyms.Spectrum.Scan| objects can be returned with:"
   ],
   "metadata": {
    "collapsed": false,
    "pycharm": {
     "name": "#%% md\n"
    }
   }
  },
  {
   "cell_type": "code",
   "execution_count": 8,
   "outputs": [
    {
     "data": {
      "text/plain": "[<pyms.Spectrum.Scan at 0x7f89ad56f8d0>,\n <pyms.Spectrum.Scan at 0x7f89ad56f198>,\n <pyms.Spectrum.Scan at 0x7f89ad56f668>,\n <pyms.Spectrum.Scan at 0x7f89ad56f7b8>,\n <pyms.Spectrum.Scan at 0x7f89ad56f828>,\n <pyms.Spectrum.Scan at 0x7f89ad56f5c0>,\n <pyms.Spectrum.Scan at 0x7f89ad56f6d8>,\n <pyms.Spectrum.Scan at 0x7f89ad56f550>,\n <pyms.Spectrum.Scan at 0x7f89ad56f630>,\n <pyms.Spectrum.Scan at 0x7f89ad56f518>]"
     },
     "metadata": {},
     "output_type": "execute_result",
     "execution_count": 8
    }
   ],
   "source": [
    "scans = data.scan_list\n",
    "scans[:10]"
   ],
   "metadata": {
    "collapsed": false,
    "pycharm": {
     "name": "#%%\n",
     "is_executing": false
    }
   }
  },
  {
   "cell_type": "markdown",
   "source": [
    "A list of the first 10 masses in a scan (e.g. the 1st scan) is returned with:"
   ],
   "metadata": {
    "collapsed": false,
    "pycharm": {
     "name": "#%% md\n"
    }
   }
  },
  {
   "cell_type": "code",
   "execution_count": 9,
   "outputs": [
    {
     "data": {
      "text/plain": "[50.1, 51.1, 53.1, 54.2, 55.1, 56.2, 57.2, 58.2, 59.1, 60.1]"
     },
     "metadata": {},
     "output_type": "execute_result",
     "execution_count": 9
    }
   ],
   "source": [
    "scans[0].mass_list[:10]"
   ],
   "metadata": {
    "collapsed": false,
    "pycharm": {
     "name": "#%%\n",
     "is_executing": false
    }
   }
  },
  {
   "cell_type": "markdown",
   "source": [
    "A list of the first 10 corresponding intensities in a scan is returned with:"
   ],
   "metadata": {
    "collapsed": false,
    "pycharm": {
     "name": "#%% md\n"
    }
   }
  },
  {
   "cell_type": "code",
   "execution_count": 10,
   "outputs": [
    {
     "data": {
      "text/plain": "22128.0"
     },
     "metadata": {},
     "output_type": "execute_result",
     "execution_count": 10
    }
   ],
   "source": [
    "scans[0].intensity_list[:10]"
   ],
   "metadata": {
    "collapsed": false,
    "pycharm": {
     "name": "#%%\n",
     "is_executing": false
    }
   }
  },
  {
   "cell_type": "markdown",
   "source": [
    "The minimum and maximum mass in an individual scan (e.g. the 1st scan) are\n",
    "returned with:"
   ],
   "metadata": {
    "collapsed": false,
    "pycharm": {
     "name": "#%% md\n"
    }
   }
  },
  {
   "cell_type": "code",
   "execution_count": 11,
   "outputs": [
    {
     "data": {
      "text/plain": "50.1"
     },
     "metadata": {},
     "output_type": "execute_result",
     "execution_count": 11
    }
   ],
   "source": [
    "scans[0].min_mass"
   ],
   "metadata": {
    "collapsed": false,
    "pycharm": {
     "name": "#%%\n",
     "is_executing": false
    }
   }
  },
  {
   "cell_type": "code",
   "execution_count": 12,
   "outputs": [
    {
     "data": {
      "text/plain": "599.4"
     },
     "metadata": {},
     "output_type": "execute_result",
     "execution_count": 12
    }
   ],
   "source": [
    "scans[0].max_mass"
   ],
   "metadata": {
    "collapsed": false,
    "pycharm": {
     "name": "#%%\n",
     "is_executing": false
    }
   }
  },
  {
   "cell_type": "markdown",
   "source": [
    "### Exporting data and obtaining information about a data set\n",
    "\n",
    "Often it is of interest to find out some basic information about the\n",
    "data set, e.g. the number of scans, the retention time range, and\n",
    "m/z range and so on. The |GCMS_data|\n",
    "class provides a method |info()|\n",
    "that can be used for this purpose."
   ],
   "metadata": {
    "collapsed": false,
    "pycharm": {
     "name": "#%% md\n"
    }
   }
  },
  {
   "cell_type": "code",
   "execution_count": null,
   "outputs": [],
   "source": [
    "data.info()"
   ],
   "metadata": {
    "collapsed": false,
    "pycharm": {
     "name": "#%%\n"
    }
   }
  },
  {
   "cell_type": "markdown",
   "source": [
    "The entire raw data of a |GCMS_data| object can be exported to a file\n",
    "with the method |write()|:"
   ],
   "metadata": {
    "collapsed": false
   }
  },
  {
   "cell_type": "code",
   "execution_count": 13,
   "outputs": [
    {
     "name": "stdout",
     "text": [
      " -> Writing intensities to '/home/domdf/Python/00 Projects/pyms-github/pyms-demo/jupyter/output/data.I.csv'\n",
      " -> Writing m/z values to '/home/domdf/Python/00 Projects/pyms-github/pyms-demo/jupyter/output/data.mz.csv'\n"
     ],
     "output_type": "stream"
    }
   ],
   "source": [
    "data.write(output_directory / \"data\")"
   ],
   "metadata": {
    "collapsed": false,
    "pycharm": {
     "name": "#%%\n",
     "is_executing": false
    }
   }
  },
  {
   "cell_type": "markdown",
   "source": [
    "This method takes the filename (\"output/data\", in this example)\n",
    "and writes two CSV files. One has extension \".I.csv\" and\n",
    "contains the intensities (\"output/data.I.csv\" in this example),\n",
    "and the other has the extension \".mz\" and contains the\n",
    "corresponding table of m/z value (\"output/data.mz.csv\" in\n",
    "this example). In general, these are not two-dimensional matrices,\n",
    "because different scans may have different number of m/z\n",
    "values recorded."
   ],
   "metadata": {
    "collapsed": false,
    "pycharm": {
     "name": "#%% md\n"
    }
   }
  }
 ],
 "metadata": {
  "kernelspec": {
   "display_name": "Python 3",
   "language": "python",
   "name": "python3"
  },
  "language_info": {
   "codemirror_mode": {
    "name": "ipython",
    "version": 2
   },
   "file_extension": ".py",
   "mimetype": "text/x-python",
   "name": "python",
   "nbconvert_exporter": "python",
   "pygments_lexer": "ipython2",
   "version": "2.7.6"
  }
 },
 "nbformat": 4,
 "nbformat_minor": 0
}